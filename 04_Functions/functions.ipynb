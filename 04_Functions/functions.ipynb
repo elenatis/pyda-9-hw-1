{
 "cells": [
  {
   "cell_type": "markdown",
   "metadata": {},
   "source": [
    "Вы работаете секретарем и вам постоянно приходят различные документы. Вы должны быть очень внимательны, чтобы не потерять ни один документ. Каталог документов хранится в следующем виде:"
   ]
  },
  {
   "cell_type": "code",
   "execution_count": 432,
   "metadata": {},
   "outputs": [],
   "source": [
    "documents = [\n",
    "    {'type': 'passport', 'number': '2207 876234', 'name': 'Василий Гупкин'},\n",
    "    {'type': 'invoice', 'number': '11-2', 'name': 'Геннадий Покемонов'},\n",
    "    {'type': 'insurance', 'number': '10006', 'name': 'Аристарх Павлов'}\n",
    "]"
   ]
  },
  {
   "cell_type": "markdown",
   "metadata": {},
   "source": [
    "Перечень полок, на которых находятся документы хранится в следующем виде:"
   ]
  },
  {
   "cell_type": "code",
   "execution_count": 433,
   "metadata": {},
   "outputs": [],
   "source": [
    "directories = {\n",
    "    '1': ['2207 876234', '11-2'],\n",
    "    '2': ['10006'],\n",
    "    '3': []\n",
    "}"
   ]
  },
  {
   "cell_type": "markdown",
   "metadata": {},
   "source": [
    "Необходимо реализовать пользовательские команды (внимание! это не название функций, которые должны быть выразительными, а команды, которые вводит пользователь, чтобы получить необходимый результат):\n",
    "  \n",
    "- p – people – команда, которая спросит номер документа и выведет имя человека, которому он принадлежит;  \n",
    "- s – shelf – команда, которая спросит номер документа и выведет номер полки, на которой он находится  \n",
    "*Правильно обработайте ситуации, когда пользователь будет вводить несуществующий документ*.\n",
    "- l – list – команда, которая выведет список всех документов в формате   \n",
    "**passport \"2207 876234\" \"Василий Гупкин\"**  \n",
    "- as – add shelf – команда, которая спросит номер новой полки и добавит ее в перечень. *Предусмотрите случай, когда пользователь добавляет полку, которая уже существует*.\n",
    "- d – delete – команда, которая спросит номер документа и удалит его из каталога и из перечня полок. *Предусмотрите сценарий, когда пользователь вводит несуществующий документ*;  \n",
    "- m – move – команда, которая спросит номер документа и целевую полку и переместит его с текущей полки на целевую. *Корректно обработайте кейсы, когда пользователь пытается переместить несуществующий документ или переместить документ на несуществующую полку*;  \n",
    "- a – add – команда, которая добавит новый документ в каталог и в перечень полок, спросив его номер, тип, имя владельца и номер полки, на котором он будет храниться. *Корректно обработайте ситуацию, когда пользователь будет пытаться добавить документ на несуществующую полку*."
   ]
  },
  {
   "cell_type": "code",
   "execution_count": null,
   "metadata": {},
   "outputs": [],
   "source": [
    " def shelf_exists(shelf):\n",
    "    \"\"\"\n",
    "    Команда проверяет существует ли полка в directories\n",
    "    \"\"\"\n",
    "    if shelf not in directories.keys():\n",
    "        print('Такой полки не существует. Добавьте новую полку с помощью команды \"as\"')\n",
    "        return False\n",
    "    return True\n",
    "\n",
    "def doc_exists (doc):\n",
    "    \"\"\"\n",
    "    Команда проверяет существует ли документ в documents\n",
    "    \"\"\"\n",
    "    file_list=[]\n",
    "    for file in documents:\n",
    "        file_list.append(file['number'])\n",
    "    if doc not in file_list:\n",
    "        print('Такого файла нет в каталоге. Проверьте список документов с помощью команды \"l\"')\n",
    "        return False\n",
    "    return True\n",
    "\n",
    "command = input('Введите команду: ')\n",
    "#словарь cmd_list содержит названия команд и вызываемые функции\n",
    "cmd_list = { 'p':people_cmd, 's':shelf_cmd, 'l':doclist_cmd, 'as':add_shelf_cmd, 'd':delete_cmd, 'm':move_cmd, 'a':add_cmd}\n",
    "\n",
    "if command in cmd_list:\n",
    "    cmd_list[command]()\n",
    "else: print('Unknown command')\n",
    "\n",
    "# cmd_list.get(command, 'Unknown command')()"
   ]
  },
  {
   "cell_type": "code",
   "execution_count": 415,
   "metadata": {},
   "outputs": [],
   "source": [
    "def people_cmd():\n",
    "    \"\"\"\n",
    "    p – people – команда, которая спросит номер документа и выведет имя человека, которому он принадлежит\n",
    "    \"\"\"\n",
    "    doc_number = input ('Номер документа: ')\n",
    "    name = '' \n",
    "    if doc_exists(doc_number):\n",
    "        for doc in documents:\n",
    "            if doc_number == doc['number']:\n",
    "                name = doc['name']\n",
    "    return name"
   ]
  },
  {
   "cell_type": "code",
   "execution_count": 417,
   "metadata": {},
   "outputs": [],
   "source": [
    "def shelf_cmd():\n",
    "    \"\"\"\n",
    "    s – shelf – команда, которая спросит номер документа и выведет номер полки, на которой он находится\n",
    "    \"\"\"\n",
    "    doc_number = input ('Номер документа: ') \n",
    "    if doc_exists(doc_number):\n",
    "        for shelf in directories.keys():\n",
    "            if doc_number in directories[shelf]:\n",
    "                print(f'Документ на {shelf} полке')\n",
    "    return"
   ]
  },
  {
   "cell_type": "code",
   "execution_count": 387,
   "metadata": {},
   "outputs": [],
   "source": [
    "def doclist_cmd():\n",
    "    \"\"\"\n",
    "    l – list – команда, которая выведет список всех документов в формате\n",
    "    <вид документа> <номер документа> <имя владельца>\n",
    "    \"\"\"\n",
    "    for doc in documents:\n",
    "        for value in doc.values():\n",
    "            print(value, end=' ')\n",
    "        print(end='\\n')\n",
    "    return "
   ]
  },
  {
   "cell_type": "code",
   "execution_count": 419,
   "metadata": {},
   "outputs": [],
   "source": [
    "def add_shelf_cmd():\n",
    "    \"\"\"\n",
    "    as – add shelf – команда, которая спросит номер новой полки и добавит ее в перечень. \n",
    "    Когда пользователь добавляет полку, которая уже существует, команда просит ввести другой номер полки.\n",
    "    \"\"\"\n",
    "    new_shelf = input('Номер новой полки: ')\n",
    "    #не использую shelf_exists так как, полок обычно меньше, чем документов, и найти свободный номер для полки проще\n",
    "    while new_shelf in directories.keys():\n",
    "        print('Такая полка уже существует. Введите другой номер.')\n",
    "        new_shelf = input('Номер новой полки: ')\n",
    "    directories[new_shelf] = []\n",
    "    return print(f'Новая полка {new_shelf} в перечне.')"
   ]
  },
  {
   "cell_type": "code",
   "execution_count": 426,
   "metadata": {},
   "outputs": [],
   "source": [
    "def delete_cmd():\n",
    "    \"\"\"\n",
    "    d – delete – команда, которая спросит номер документа и удалит его из каталога и из перечня полок.\n",
    "    Если документа нет в каталоге, команда попросит уточнить номер.\n",
    "    При введении значения q вместо номера, команда останавливается.\n",
    "    \"\"\"\n",
    "    doc_to_delete = input ('Введите номер документа, который хотите удалить: ')\n",
    "    \n",
    "    while doc_to_delete != 'q':\n",
    "        if doc_exists(doc_to_delete):\n",
    "            for doc in documents:\n",
    "                if doc_to_delete == doc['number']:\n",
    "                    documents.remove(doc)\n",
    "                    for shelf in directories.values():\n",
    "                        if doc_to_delete in shelf:\n",
    "                            shelf.remove(doc_to_delete)\n",
    "            print(f'Документ с номером {doc_to_delete} удален из каталога и из перечня полок.')\n",
    "            doc_to_delete = 'q'\n",
    "        else:\n",
    "            print('Введите другой номер документа.')\n",
    "            doc_to_delete = input ('Введите номер документа, который хотите удалить или введите q для остановки. ')\n",
    "    return"
   ]
  },
  {
   "cell_type": "code",
   "execution_count": 428,
   "metadata": {
    "scrolled": true
   },
   "outputs": [],
   "source": [
    "def move_cmd():\n",
    "    \"\"\"\n",
    "    m – move – команда, которая спросит номер документа и целевую полку \n",
    "    и переместит его с текущей полки на целевую. \n",
    "    При вводе несуществующего документа перемещеие не производится, \n",
    "    команда предлагает проверить наличие документа в каталоге по команде l\n",
    "    При вводе несуществующей полки перемещение не производится, \n",
    "    команда предлагает добавить новую полку с помощью команды as\n",
    "    \"\"\"\n",
    "    print('Введите номер документа и полку, куда хотите его переместить')\n",
    "    document = input('Номер документа: ')\n",
    "    new_shelf = input('Куда переместить: ')\n",
    "\n",
    "    if doc_exists(document) and shelf_exists(new_shelf):\n",
    "        for shelf in directories.values():\n",
    "            if document in shelf:\n",
    "                shelf.remove(document)\n",
    "        directories[new_shelf].append(document)\n",
    "        print('Файл перемещен.')\n",
    "    return"
   ]
  },
  {
   "cell_type": "code",
   "execution_count": null,
   "metadata": {},
   "outputs": [],
   "source": [
    "def add_cmd():\n",
    "    \"\"\"\n",
    "    a – add – команда, которая добавит новый документ в каталог и в перечень полок, \n",
    "    спросив его номер, тип, имя владельца и номер полки, на котором он будет храниться. \n",
    "    Корректно обработайте ситуацию, когда пользователь будет пытаться добавить документ на несуществующую полку.\n",
    "    \"\"\"\n",
    "\n",
    "    shelf = input('На какую полку положить? ')\n",
    "    if shelf_exists(shelf):\n",
    "        new_doc = {'type':input('Вид документа: '), 'number':input('Номер документа: '), 'name':input('Имя владельца: ')}\n",
    "        documents.append(new_doc)\n",
    "        directories[shelf].append(new_doc['number'])\n",
    "        print(f'Документ на {shelf} полке: {directories[shelf]}')\n",
    "    return"
   ]
  }
 ],
 "metadata": {
  "kernelspec": {
   "display_name": "Python 3",
   "language": "python",
   "name": "python3"
  },
  "language_info": {
   "codemirror_mode": {
    "name": "ipython",
    "version": 3
   },
   "file_extension": ".py",
   "mimetype": "text/x-python",
   "name": "python",
   "nbconvert_exporter": "python",
   "pygments_lexer": "ipython3",
   "version": "3.7.6"
  }
 },
 "nbformat": 4,
 "nbformat_minor": 2
}
