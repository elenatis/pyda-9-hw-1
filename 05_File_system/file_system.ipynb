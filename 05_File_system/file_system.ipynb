{
 "cells": [
  {
   "cell_type": "markdown",
   "metadata": {},
   "source": [
    "Переведите содержимое файла purchase_log.txt в словарь purchases вида:\n",
    "{'1840e0b9d4': 'Продукты', ...}\n",
    "\n",
    "Для каждого user_id в файле visit_log.csv определите третий столбец с категорией покупки (если покупка была, сам файл visit_log.csv изменять не надо). \n",
    "\n",
    "Запишите в файл funnel.csv визиты из файла visit_log.csv, в которых были покупки с указанием категории.\n",
    "\n",
    "Учтите условия на данные:\n",
    "\n",
    "содержимое purchase_log.txt помещается в оперативную память компьютера\n",
    "содержимое visit_log.csv - нет; используйте только построчную обработку этого файла"
   ]
  },
  {
   "cell_type": "code",
   "execution_count": null,
   "metadata": {},
   "outputs": [],
   "source": [
    "import json"
   ]
  },
  {
   "cell_type": "code",
   "execution_count": null,
   "metadata": {},
   "outputs": [],
   "source": [
    "# ПЕРЕВОД purchase_log.txt в СЛОВАРЬ\n",
    "purchases = {}\n",
    "with open ('purchase_log.txt') as f:\n",
    "    f.readline() \n",
    "    for line in f:\n",
    "        purchases[json.loads(line.strip())['user_id']] = json.loads(line.strip())['category']"
   ]
  },
  {
   "cell_type": "code",
   "execution_count": 95,
   "metadata": {},
   "outputs": [],
   "source": [
    "category = ''\n",
    "#ЗАПИСЬ ПОКУПОК В funnel.csv\n",
    "with open ('visit_log.csv') as f:\n",
    "    with open('funnel.csv', 'w') as f2write:\n",
    "        for line in f:\n",
    "            if line.strip().split(',')[0] in purchases:\n",
    "                category = purchases.get(line.strip().split(',')[0])\n",
    "                f2write.write(f'{line.strip()},{category}\\n')"
   ]
  },
  {
   "cell_type": "code",
   "execution_count": null,
   "metadata": {},
   "outputs": [],
   "source": []
  }
 ],
 "metadata": {
  "kernelspec": {
   "display_name": "Python 3",
   "language": "python",
   "name": "python3"
  }
 },
 "nbformat": 4,
 "nbformat_minor": 4
}
