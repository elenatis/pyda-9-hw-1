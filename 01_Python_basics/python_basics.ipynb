{
 "cells": [
  {
   "cell_type": "markdown",
   "metadata": {},
   "source": [
    "**Задание 1**. Даны 2 строки: *long_phrase* и *short_phrase*. \n",
    "Напишите код, который проверяет действительно ли длинная фраза *long_phrase* длиннее короткой *short_phrase*. И выводит *True* или *False* в зависимости от результата сравнения."
   ]
  },
  {
   "cell_type": "code",
   "execution_count": null,
   "metadata": {},
   "outputs": [],
   "source": [
    "long_phrase = 'Насколько проще было бы писать программы, если бы не заказчики'\n",
    "short_phrase = '640Кб должно хватить для любых задач. Билл Гейтс (по легенде)'"
   ]
  },
  {
   "cell_type": "code",
   "execution_count": 2,
   "metadata": {},
   "outputs": [
    {
     "data": {
      "text/plain": [
       "True"
      ]
     },
     "execution_count": 2,
     "metadata": {},
     "output_type": "execute_result"
    }
   ],
   "source": [
    "long_phrase = 'Насколько проще было бы писать программы, если бы не заказчики'\n",
    "short_phrase = '640Кб должно хватить для любых задач. Билл Гейтс (по легенде)'\n",
    "\n",
    "len(long_phrase) > len(short_phrase)"
   ]
  },
  {
   "cell_type": "markdown",
   "metadata": {},
   "source": [
    "**Задание 2**. Дано значение объема файла в байтах (*в мегабайте 2^20 байт*). Напишите перевод этого значения в мегабайты в формате: \"*Объем файла равен 213.68Mb*\"."
   ]
  },
  {
   "cell_type": "code",
   "execution_count": 3,
   "metadata": {},
   "outputs": [
    {
     "name": "stdout",
     "output_type": "stream",
     "text": [
      "Объем файла равен 238.42Mb\n"
     ]
    }
   ],
   "source": [
    "size_byte = 250000000\n",
    "size_mb = size_byte/(2**20)\n",
    "\n",
    "print (\"Объем файла равен \" + str( round(size_mb,2) ) + \"Mb\")"
   ]
  },
  {
   "cell_type": "markdown",
   "metadata": {},
   "source": [
    "**Задание 3**. Разработать приложение для определения знака зодиака по дате рождения. Пример:\n",
    "\n",
    "Введите месяц: март\n",
    "\n",
    "Введите число: 6\n",
    "\n",
    "Вывод:\n",
    "Рыбы"
   ]
  },
  {
   "cell_type": "code",
   "execution_count": 4,
   "metadata": {},
   "outputs": [
    {
     "name": "stdout",
     "output_type": "stream",
     "text": [
      "Введите число:6\n",
      "Введите месяц:Март\n",
      "Рыбы\n"
     ]
    }
   ],
   "source": [
    "date = int(input('Введите число:'))\n",
    "month = (input ('Введите месяц:')).lower()\n",
    "if (month == '1' or month == 'январь'    and date < 21) or (month == '12' or month == 'декабрь' and date >= 22): \n",
    "    print ('Козерог')\n",
    "elif month == '2' or month == 'февраль' and date < 19: \n",
    "    print ('Водолей')\n",
    "elif month == '3' or month == 'март'   and date < 21: \n",
    "    print ('Рыбы')\n",
    "elif month == '4' or month == 'апрель' and date < 21: \n",
    "    print ('Овен')\n",
    "elif month == '5' or month == 'май'   and date < 21: \n",
    "    print ('Телец')\n",
    "elif month == '6' or month == 'июнь'  and date < 21: \n",
    "    print ('Близнецы')\n",
    "elif month == '7' or month == 'июль'  and date < 23: \n",
    "    print ('Рак')\n",
    "elif month == '8' or month == 'август' and date < 19: \n",
    "    print ('Лев')\n",
    "elif month == '9' or month == 'сентябрь' and date < 24: \n",
    "    print ('Дева')\n",
    "elif month == '10' or month == 'октябрь' and date < 24: \n",
    "    print ('Весы')\n",
    "elif month == '11' or month == 'ноябрь' and date < 22: \n",
    "    print ('Скорпион')\n",
    "elif month == '12' or month == 'декабрь' and date < 22:\n",
    "    print ('Стрелец')\n",
    "else: print ('Не соответствует дате календаря')"
   ]
  },
  {
   "cell_type": "markdown",
   "metadata": {},
   "source": [
    "**Задание 4**. Нужно разработать приложение для финансового планирования.\n",
    "Приложение учитывает сколько уходит на ипотеку, \"на жизнь\" и сколько нужно отложить на пенсию.\n",
    "Пользователь вводит:\n",
    "- заработанную плату в месяц.\n",
    "- сколько процентов от ЗП уходит на ипотеку.\n",
    "- сколько процентов от ЗП уходит \"на жизнь\".\n",
    "- сколько раз приходит премия в год.\n",
    "\n",
    "Остальная часть заработанной платы откладывается на пенсию.\n",
    "\n",
    "Также пользователю приходит премия в размере зарплаты, от которой половина уходит на отпуск, а вторая половина откладывается.\n",
    "\n",
    "Программа должна учитывать сколько премий было в год.\n",
    "\n",
    "Нужно вывести сколько денег тратит пользователь на ипотеку и сколько он накопит за год.\n",
    "\n",
    "Пример:\n",
    "\n",
    "Введите заработанную плату в месяц: 100000\n",
    "\n",
    "Введите сколько процентов уходит на ипотеку: 30\n",
    "\n",
    "Введите сколько процентов уходит на жизнь: 50\n",
    "\n",
    "Введите количество премий за год: 2\n",
    "\n",
    "Вывод:\n",
    "На ипотеку было потрачено: 360000 рублей\n",
    "Было накоплено: 340000 рублей"
   ]
  },
  {
   "cell_type": "code",
   "execution_count": 6,
   "metadata": {},
   "outputs": [
    {
     "name": "stdout",
     "output_type": "stream",
     "text": [
      "Введите заработанную плату в месяц: 80000\n",
      "Введите сколько процентов уходит на ипотеку: 50\n",
      "Введите сколько процентов уходит на жизнь: 40\n",
      "Введите количество премий за год: 3\n",
      "На ипотеку было потрачено:  480000  рублей Было накоплено:  216000  рублей\n"
     ]
    }
   ],
   "source": [
    "wage = int(input ('Введите заработанную плату в месяц: '))\n",
    "loan = int(input ('Введите сколько процентов уходит на ипотеку: '))\n",
    "expences = int(input ('Введите сколько процентов уходит на жизнь: '))\n",
    "n_bonus = int(input ('Введите количество премий за год: '))\n",
    "\n",
    "loan_in_year = wage * 12 * loan / 100\n",
    "savings = 12 * wage * (1 - loan/100 - expences/100) + n_bonus * wage * 0.5\n",
    "\n",
    "print ('На ипотеку было потрачено: ' , round(loan_in_year) , ' рублей Было накоплено: ' , round (savings) , ' рублей')"
   ]
  },
  {
   "cell_type": "code",
   "execution_count": null,
   "metadata": {},
   "outputs": [],
   "source": []
  }
 ],
 "metadata": {
  "kernelspec": {
   "display_name": "Python 3",
   "language": "python",
   "name": "python3"
  },
  "language_info": {
   "codemirror_mode": {
    "name": "ipython",
    "version": 3
   },
   "file_extension": ".py",
   "mimetype": "text/x-python",
   "name": "python",
   "nbconvert_exporter": "python",
   "pygments_lexer": "ipython3",
   "version": "3.7.6"
  }
 },
 "nbformat": 4,
 "nbformat_minor": 2
}
