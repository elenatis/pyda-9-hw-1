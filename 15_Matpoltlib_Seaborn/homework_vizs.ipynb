{
 "cells": [
  {
   "cell_type": "code",
   "execution_count": 33,
   "metadata": {},
   "outputs": [],
   "source": [
    "import pandas as pd\n",
    "import matplotlib.pyplot as plt\n",
    "import seaborn as sns"
   ]
  },
  {
   "cell_type": "markdown",
   "metadata": {},
   "source": [
    "### New York City Taxi Trip Duration\n",
    "https://www.kaggle.com/c/nyc-taxi-trip-duration\n",
    "Data fields\n",
    "- id - a unique identifier for each trip\n",
    "- vendor_id - a code indicating the provider associated with the trip record\n",
    "- pickup_datetime - date and time when the meter was engaged\n",
    "- dropoff_datetime - date and time when the meter was disengaged\n",
    "- passenger_count - the number of passengers in the vehicle (driver entered value)\n",
    "- pickup_longitude - the longitude where the meter was engaged\n",
    "- pickup_latitude - the latitude where the meter was engaged\n",
    "- dropoff_longitude - the longitude where the meter was disengaged\n",
    "- dropoff_latitude - the latitude where the meter was disengaged\n",
    "- store_and_fwd_flag - This flag indicates whether the trip record was held in vehicle memory before sending to the vendor because the vehicle did not have a connection to the server - Y=store and forward; N=not a store and forward trip\n",
    "- trip_duration - duration of the trip in seconds"
   ]
  },
  {
   "cell_type": "code",
   "execution_count": 18,
   "metadata": {},
   "outputs": [
    {
     "name": "stdout",
     "output_type": "stream",
     "text": [
      "<class 'pandas.core.frame.DataFrame'>\n",
      "RangeIndex: 1458644 entries, 0 to 1458643\n",
      "Data columns (total 11 columns):\n",
      " #   Column              Non-Null Count    Dtype  \n",
      "---  ------              --------------    -----  \n",
      " 0   id                  1458644 non-null  object \n",
      " 1   vendor_id           1458644 non-null  int64  \n",
      " 2   pickup_datetime     1458644 non-null  object \n",
      " 3   dropoff_datetime    1458644 non-null  object \n",
      " 4   passenger_count     1458644 non-null  int64  \n",
      " 5   pickup_longitude    1458644 non-null  float64\n",
      " 6   pickup_latitude     1458644 non-null  float64\n",
      " 7   dropoff_longitude   1458644 non-null  float64\n",
      " 8   dropoff_latitude    1458644 non-null  float64\n",
      " 9   store_and_fwd_flag  1458644 non-null  object \n",
      " 10  trip_duration       1458644 non-null  int64  \n",
      "dtypes: float64(4), int64(3), object(4)\n",
      "memory usage: 122.4+ MB\n",
      "None\n"
     ]
    },
    {
     "data": {
      "text/html": [
       "<div>\n",
       "<style scoped>\n",
       "    .dataframe tbody tr th:only-of-type {\n",
       "        vertical-align: middle;\n",
       "    }\n",
       "\n",
       "    .dataframe tbody tr th {\n",
       "        vertical-align: top;\n",
       "    }\n",
       "\n",
       "    .dataframe thead th {\n",
       "        text-align: right;\n",
       "    }\n",
       "</style>\n",
       "<table border=\"1\" class=\"dataframe\">\n",
       "  <thead>\n",
       "    <tr style=\"text-align: right;\">\n",
       "      <th></th>\n",
       "      <th>id</th>\n",
       "      <th>vendor_id</th>\n",
       "      <th>pickup_datetime</th>\n",
       "      <th>dropoff_datetime</th>\n",
       "      <th>passenger_count</th>\n",
       "      <th>pickup_longitude</th>\n",
       "      <th>pickup_latitude</th>\n",
       "      <th>dropoff_longitude</th>\n",
       "      <th>dropoff_latitude</th>\n",
       "      <th>store_and_fwd_flag</th>\n",
       "      <th>trip_duration</th>\n",
       "    </tr>\n",
       "  </thead>\n",
       "  <tbody>\n",
       "    <tr>\n",
       "      <th>0</th>\n",
       "      <td>id2875421</td>\n",
       "      <td>2</td>\n",
       "      <td>2016-03-14 17:24:55</td>\n",
       "      <td>2016-03-14 17:32:30</td>\n",
       "      <td>1</td>\n",
       "      <td>-73.982155</td>\n",
       "      <td>40.767937</td>\n",
       "      <td>-73.964630</td>\n",
       "      <td>40.765602</td>\n",
       "      <td>N</td>\n",
       "      <td>455</td>\n",
       "    </tr>\n",
       "    <tr>\n",
       "      <th>1</th>\n",
       "      <td>id2377394</td>\n",
       "      <td>1</td>\n",
       "      <td>2016-06-12 00:43:35</td>\n",
       "      <td>2016-06-12 00:54:38</td>\n",
       "      <td>1</td>\n",
       "      <td>-73.980415</td>\n",
       "      <td>40.738564</td>\n",
       "      <td>-73.999481</td>\n",
       "      <td>40.731152</td>\n",
       "      <td>N</td>\n",
       "      <td>663</td>\n",
       "    </tr>\n",
       "    <tr>\n",
       "      <th>2</th>\n",
       "      <td>id3858529</td>\n",
       "      <td>2</td>\n",
       "      <td>2016-01-19 11:35:24</td>\n",
       "      <td>2016-01-19 12:10:48</td>\n",
       "      <td>1</td>\n",
       "      <td>-73.979027</td>\n",
       "      <td>40.763939</td>\n",
       "      <td>-74.005333</td>\n",
       "      <td>40.710087</td>\n",
       "      <td>N</td>\n",
       "      <td>2124</td>\n",
       "    </tr>\n",
       "    <tr>\n",
       "      <th>3</th>\n",
       "      <td>id3504673</td>\n",
       "      <td>2</td>\n",
       "      <td>2016-04-06 19:32:31</td>\n",
       "      <td>2016-04-06 19:39:40</td>\n",
       "      <td>1</td>\n",
       "      <td>-74.010040</td>\n",
       "      <td>40.719971</td>\n",
       "      <td>-74.012268</td>\n",
       "      <td>40.706718</td>\n",
       "      <td>N</td>\n",
       "      <td>429</td>\n",
       "    </tr>\n",
       "    <tr>\n",
       "      <th>4</th>\n",
       "      <td>id2181028</td>\n",
       "      <td>2</td>\n",
       "      <td>2016-03-26 13:30:55</td>\n",
       "      <td>2016-03-26 13:38:10</td>\n",
       "      <td>1</td>\n",
       "      <td>-73.973053</td>\n",
       "      <td>40.793209</td>\n",
       "      <td>-73.972923</td>\n",
       "      <td>40.782520</td>\n",
       "      <td>N</td>\n",
       "      <td>435</td>\n",
       "    </tr>\n",
       "  </tbody>\n",
       "</table>\n",
       "</div>"
      ],
      "text/plain": [
       "          id  vendor_id      pickup_datetime     dropoff_datetime  \\\n",
       "0  id2875421          2  2016-03-14 17:24:55  2016-03-14 17:32:30   \n",
       "1  id2377394          1  2016-06-12 00:43:35  2016-06-12 00:54:38   \n",
       "2  id3858529          2  2016-01-19 11:35:24  2016-01-19 12:10:48   \n",
       "3  id3504673          2  2016-04-06 19:32:31  2016-04-06 19:39:40   \n",
       "4  id2181028          2  2016-03-26 13:30:55  2016-03-26 13:38:10   \n",
       "\n",
       "   passenger_count  pickup_longitude  pickup_latitude  dropoff_longitude  \\\n",
       "0                1        -73.982155        40.767937         -73.964630   \n",
       "1                1        -73.980415        40.738564         -73.999481   \n",
       "2                1        -73.979027        40.763939         -74.005333   \n",
       "3                1        -74.010040        40.719971         -74.012268   \n",
       "4                1        -73.973053        40.793209         -73.972923   \n",
       "\n",
       "   dropoff_latitude store_and_fwd_flag  trip_duration  \n",
       "0         40.765602                  N            455  \n",
       "1         40.731152                  N            663  \n",
       "2         40.710087                  N           2124  \n",
       "3         40.706718                  N            429  \n",
       "4         40.782520                  N            435  "
      ]
     },
     "execution_count": 18,
     "metadata": {},
     "output_type": "execute_result"
    }
   ],
   "source": [
    "df = pd.read_csv('train.csv')\n",
    "print(df.info())\n",
    "df.head()"
   ]
  },
  {
   "cell_type": "code",
   "execution_count": 22,
   "metadata": {},
   "outputs": [],
   "source": [
    "df['pickup_datetime'] = pd.to_datetime(df.pickup_datetime)\n",
    "df['dropoff_datetime'] = pd.to_datetime(df.dropoff_datetime)\n",
    "df['duration'] = pd.to_timedelta(df.trip_duration, unit='s')\n",
    "df['weekday'] = df.pickup_datetime.dt.weekday"
   ]
  },
  {
   "cell_type": "code",
   "execution_count": 25,
   "metadata": {},
   "outputs": [],
   "source": [
    "df = df[['id', 'pickup_datetime', 'dropoff_datetime', 'passenger_count', 'pickup_longitude', 'pickup_latitude', 'dropoff_longitude', 'dropoff_latitude', 'trip_duration']]"
   ]
  },
  {
   "cell_type": "code",
   "execution_count": 26,
   "metadata": {},
   "outputs": [
    {
     "name": "stdout",
     "output_type": "stream",
     "text": [
      "<class 'pandas.core.frame.DataFrame'>\n",
      "RangeIndex: 1458644 entries, 0 to 1458643\n",
      "Data columns (total 9 columns):\n",
      " #   Column             Non-Null Count    Dtype         \n",
      "---  ------             --------------    -----         \n",
      " 0   id                 1458644 non-null  object        \n",
      " 1   pickup_datetime    1458644 non-null  datetime64[ns]\n",
      " 2   dropoff_datetime   1458644 non-null  datetime64[ns]\n",
      " 3   passenger_count    1458644 non-null  int64         \n",
      " 4   pickup_longitude   1458644 non-null  float64       \n",
      " 5   pickup_latitude    1458644 non-null  float64       \n",
      " 6   dropoff_longitude  1458644 non-null  float64       \n",
      " 7   dropoff_latitude   1458644 non-null  float64       \n",
      " 8   trip_duration      1458644 non-null  int64         \n",
      "dtypes: datetime64[ns](2), float64(4), int64(2), object(1)\n",
      "memory usage: 100.2+ MB\n",
      "None\n"
     ]
    },
    {
     "data": {
      "text/html": [
       "<div>\n",
       "<style scoped>\n",
       "    .dataframe tbody tr th:only-of-type {\n",
       "        vertical-align: middle;\n",
       "    }\n",
       "\n",
       "    .dataframe tbody tr th {\n",
       "        vertical-align: top;\n",
       "    }\n",
       "\n",
       "    .dataframe thead th {\n",
       "        text-align: right;\n",
       "    }\n",
       "</style>\n",
       "<table border=\"1\" class=\"dataframe\">\n",
       "  <thead>\n",
       "    <tr style=\"text-align: right;\">\n",
       "      <th></th>\n",
       "      <th>id</th>\n",
       "      <th>pickup_datetime</th>\n",
       "      <th>dropoff_datetime</th>\n",
       "      <th>passenger_count</th>\n",
       "      <th>pickup_longitude</th>\n",
       "      <th>pickup_latitude</th>\n",
       "      <th>dropoff_longitude</th>\n",
       "      <th>dropoff_latitude</th>\n",
       "      <th>trip_duration</th>\n",
       "    </tr>\n",
       "  </thead>\n",
       "  <tbody>\n",
       "    <tr>\n",
       "      <th>0</th>\n",
       "      <td>id2875421</td>\n",
       "      <td>2016-03-14 17:24:55</td>\n",
       "      <td>2016-03-14 17:32:30</td>\n",
       "      <td>1</td>\n",
       "      <td>-73.982155</td>\n",
       "      <td>40.767937</td>\n",
       "      <td>-73.964630</td>\n",
       "      <td>40.765602</td>\n",
       "      <td>455</td>\n",
       "    </tr>\n",
       "    <tr>\n",
       "      <th>1</th>\n",
       "      <td>id2377394</td>\n",
       "      <td>2016-06-12 00:43:35</td>\n",
       "      <td>2016-06-12 00:54:38</td>\n",
       "      <td>1</td>\n",
       "      <td>-73.980415</td>\n",
       "      <td>40.738564</td>\n",
       "      <td>-73.999481</td>\n",
       "      <td>40.731152</td>\n",
       "      <td>663</td>\n",
       "    </tr>\n",
       "    <tr>\n",
       "      <th>2</th>\n",
       "      <td>id3858529</td>\n",
       "      <td>2016-01-19 11:35:24</td>\n",
       "      <td>2016-01-19 12:10:48</td>\n",
       "      <td>1</td>\n",
       "      <td>-73.979027</td>\n",
       "      <td>40.763939</td>\n",
       "      <td>-74.005333</td>\n",
       "      <td>40.710087</td>\n",
       "      <td>2124</td>\n",
       "    </tr>\n",
       "    <tr>\n",
       "      <th>3</th>\n",
       "      <td>id3504673</td>\n",
       "      <td>2016-04-06 19:32:31</td>\n",
       "      <td>2016-04-06 19:39:40</td>\n",
       "      <td>1</td>\n",
       "      <td>-74.010040</td>\n",
       "      <td>40.719971</td>\n",
       "      <td>-74.012268</td>\n",
       "      <td>40.706718</td>\n",
       "      <td>429</td>\n",
       "    </tr>\n",
       "    <tr>\n",
       "      <th>4</th>\n",
       "      <td>id2181028</td>\n",
       "      <td>2016-03-26 13:30:55</td>\n",
       "      <td>2016-03-26 13:38:10</td>\n",
       "      <td>1</td>\n",
       "      <td>-73.973053</td>\n",
       "      <td>40.793209</td>\n",
       "      <td>-73.972923</td>\n",
       "      <td>40.782520</td>\n",
       "      <td>435</td>\n",
       "    </tr>\n",
       "  </tbody>\n",
       "</table>\n",
       "</div>"
      ],
      "text/plain": [
       "          id     pickup_datetime    dropoff_datetime  passenger_count  \\\n",
       "0  id2875421 2016-03-14 17:24:55 2016-03-14 17:32:30                1   \n",
       "1  id2377394 2016-06-12 00:43:35 2016-06-12 00:54:38                1   \n",
       "2  id3858529 2016-01-19 11:35:24 2016-01-19 12:10:48                1   \n",
       "3  id3504673 2016-04-06 19:32:31 2016-04-06 19:39:40                1   \n",
       "4  id2181028 2016-03-26 13:30:55 2016-03-26 13:38:10                1   \n",
       "\n",
       "   pickup_longitude  pickup_latitude  dropoff_longitude  dropoff_latitude  \\\n",
       "0        -73.982155        40.767937         -73.964630         40.765602   \n",
       "1        -73.980415        40.738564         -73.999481         40.731152   \n",
       "2        -73.979027        40.763939         -74.005333         40.710087   \n",
       "3        -74.010040        40.719971         -74.012268         40.706718   \n",
       "4        -73.973053        40.793209         -73.972923         40.782520   \n",
       "\n",
       "   trip_duration  \n",
       "0            455  \n",
       "1            663  \n",
       "2           2124  \n",
       "3            429  \n",
       "4            435  "
      ]
     },
     "execution_count": 26,
     "metadata": {},
     "output_type": "execute_result"
    }
   ],
   "source": [
    "print(df.info())\n",
    "df.head()"
   ]
  },
  {
   "cell_type": "markdown",
   "metadata": {},
   "source": [
    "### Распределение количества поездок по дням\n",
    "Посмотрим сколько поездок совершалось еженевно, для этого агрегируем все поездки по дням и посчитаем их количество."
   ]
  },
  {
   "cell_type": "code",
   "execution_count": 109,
   "metadata": {},
   "outputs": [
    {
     "data": {
      "text/plain": [
       "<matplotlib.axes._subplots.AxesSubplot at 0x1ab9e0c9d0>"
      ]
     },
     "execution_count": 109,
     "metadata": {},
     "output_type": "execute_result"
    },
    {
     "data": {
      "image/png": "[encoded data removed]",
      "text/plain": [
       "<Figure size 1440x288 with 1 Axes>"
      ]
     },
     "metadata": {
      "needs_background": "light"
     },
     "output_type": "display_data"
    }
   ],
   "source": [
    "viz1 = df.groupby(df.pickup_datetime.dt.floor('d')).agg({'duration':'describe'})['duration']['count']\n",
    "viz1.plot(figsize=(20,4), title='Count of trips daily')"
   ]
  },
  {
   "cell_type": "markdown",
   "metadata": {},
   "source": [
    "На графике видно несколько пиков в месяц, видимо, в какой-то день недели количество поездок значительно превышает среднее внеделю. Есть два дня с значительными просадками в количестве. Можно посмореть с чем это было связано."
   ]
  },
  {
   "cell_type": "markdown",
   "metadata": {},
   "source": [
    "Из аналогичных данных посомтрим на распределение количества поездок в день."
   ]
  },
  {
   "cell_type": "code",
   "execution_count": 230,
   "metadata": {},
   "outputs": [
    {
     "data": {
      "text/plain": [
       "<matplotlib.axes._subplots.AxesSubplot at 0x1ae87f3150>"
      ]
     },
     "execution_count": 230,
     "metadata": {},
     "output_type": "execute_result"
    },
    {
     "data": {
      "image/png": "[encoded data removed]",
      "text/plain": [
       "<Figure size 720x216 with 1 Axes>"
      ]
     },
     "metadata": {
      "needs_background": "light"
     },
     "output_type": "display_data"
    }
   ],
   "source": [
    "viz1.hist(figsize=(10,3), bins=30)"
   ]
  },
  {
   "cell_type": "markdown",
   "metadata": {},
   "source": [
    "Распределение похоже на нормальное с медианой около 8000, не превышает 10000, имеет выбросы около 2000 и 3500"
   ]
  },
  {
   "cell_type": "markdown",
   "metadata": {},
   "source": [
    "Ранее на график мы увидели, посмотрим как распределяется количество поездок в течение недели. \n",
    "Для этого объединим данные по дням недели, посчитаем количество и построим столбчатую диаграмму."
   ]
  },
  {
   "cell_type": "code",
   "execution_count": 232,
   "metadata": {},
   "outputs": [
    {
     "data": {
      "text/plain": [
       "Text(0.5, 1.0, 'Amount of trips by weekday')"
      ]
     },
     "execution_count": 232,
     "metadata": {},
     "output_type": "execute_result"
    },
    {
     "data": {
      "image/png": "[encoded data removed]",
      "text/plain": [
       "<Figure size 720x432 with 1 Axes>"
      ]
     },
     "metadata": {
      "needs_background": "light"
     },
     "output_type": "display_data"
    }
   ],
   "source": [
    "x = df.groupby('weekday').size()\n",
    "plt.figure(figsize=(10,6))\n",
    "plt.bar(x.index, height= x.values, width=0.5)\n",
    "plt.xticks(ticks=[0, 1, 2, 3, 4, 5, 6], labels=['Monday','Tuesday','Wednesday','Thursday','Friday','Saturday','Sunday'])\n",
    "plt.title('Amount of trips by weekday')"
   ]
  },
  {
   "cell_type": "markdown",
   "metadata": {},
   "source": [
    "В целом оличество поездок больше всего пришлось на четверг, пятницу и субботу, но отрыв не значительно большой."
   ]
  },
  {
   "cell_type": "markdown",
   "metadata": {},
   "source": [
    "Было бы интересно посмотреть на распределение значений длительности поездок в течение недели. Но сначала посмотрим на основные описательные статистики."
   ]
  },
  {
   "cell_type": "code",
   "execution_count": 237,
   "metadata": {},
   "outputs": [
    {
     "data": {
      "text/plain": [
       "count                   1458644\n",
       "mean     0 days 00:15:59.492272\n",
       "std      0 days 01:27:17.431724\n",
       "min             0 days 00:00:01\n",
       "25%             0 days 00:06:37\n",
       "50%             0 days 00:11:02\n",
       "75%             0 days 00:17:55\n",
       "max            40 days 19:31:22\n",
       "Name: duration, dtype: object"
      ]
     },
     "execution_count": 237,
     "metadata": {},
     "output_type": "execute_result"
    }
   ],
   "source": [
    "df.duration.describe()"
   ]
  },
  {
   "cell_type": "markdown",
   "metadata": {},
   "source": [
    "Смущает, что стандартное отклонение значительно превышает среднее значение. Значит, что в выборке много выбросов с большими значениями.\n",
    "При построении boxplot уберем выбросы параметром showfliers = False."
   ]
  },
  {
   "cell_type": "code",
   "execution_count": 264,
   "metadata": {},
   "outputs": [
    {
     "data": {
      "text/plain": [
       "<matplotlib.axes._subplots.AxesSubplot at 0x1b25243650>"
      ]
     },
     "execution_count": 264,
     "metadata": {},
     "output_type": "execute_result"
    },
    {
     "data": {
      "image/png": "[encoded data removed]",
      "text/plain": [
       "<Figure size 1440x1440 with 1 Axes>"
      ]
     },
     "metadata": {
      "needs_background": "light"
     },
     "output_type": "display_data"
    }
   ],
   "source": [
    "viz2 = df[['weekday', 'trip_duration']]\n",
    "plt.figure(figsize=(20,20))\n",
    "box = sns.boxplot(data=viz2, x='weekday', y='trip_duration', palette='Set3', showfliers = False)\n",
    "box.set_xticklabels(labels=['Monday','Tuesday','Wednesday','Thursday','Friday','Saturday','Sunday'])\n",
    "box"
   ]
  },
  {
   "cell_type": "markdown",
   "metadata": {},
   "source": [
    "Посмотрим в какое время наибольший спро на такси. Сведем поездки в сводную таблицу с днями недели в индексе и часом начала поездки в столбцах. Далее с помощью seaborn построим тепловую карту."
   ]
  },
  {
   "cell_type": "code",
   "execution_count": 282,
   "metadata": {},
   "outputs": [
    {
     "data": {
      "text/html": [
       "<div>\n",
       "<style scoped>\n",
       "    .dataframe tbody tr th:only-of-type {\n",
       "        vertical-align: middle;\n",
       "    }\n",
       "\n",
       "    .dataframe tbody tr th {\n",
       "        vertical-align: top;\n",
       "    }\n",
       "\n",
       "    .dataframe thead th {\n",
       "        text-align: right;\n",
       "    }\n",
       "</style>\n",
       "<table border=\"1\" class=\"dataframe\">\n",
       "  <thead>\n",
       "    <tr style=\"text-align: right;\">\n",
       "      <th>pickup_datetime</th>\n",
       "      <th>0</th>\n",
       "      <th>1</th>\n",
       "      <th>2</th>\n",
       "      <th>3</th>\n",
       "      <th>4</th>\n",
       "      <th>5</th>\n",
       "      <th>6</th>\n",
       "      <th>7</th>\n",
       "      <th>8</th>\n",
       "      <th>9</th>\n",
       "      <th>...</th>\n",
       "      <th>14</th>\n",
       "      <th>15</th>\n",
       "      <th>16</th>\n",
       "      <th>17</th>\n",
       "      <th>18</th>\n",
       "      <th>19</th>\n",
       "      <th>20</th>\n",
       "      <th>21</th>\n",
       "      <th>22</th>\n",
       "      <th>23</th>\n",
       "    </tr>\n",
       "    <tr>\n",
       "      <th>pickup_datetime</th>\n",
       "      <th></th>\n",
       "      <th></th>\n",
       "      <th></th>\n",
       "      <th></th>\n",
       "      <th></th>\n",
       "      <th></th>\n",
       "      <th></th>\n",
       "      <th></th>\n",
       "      <th></th>\n",
       "      <th></th>\n",
       "      <th></th>\n",
       "      <th></th>\n",
       "      <th></th>\n",
       "      <th></th>\n",
       "      <th></th>\n",
       "      <th></th>\n",
       "      <th></th>\n",
       "      <th></th>\n",
       "      <th></th>\n",
       "      <th></th>\n",
       "      <th></th>\n",
       "    </tr>\n",
       "  </thead>\n",
       "  <tbody>\n",
       "    <tr>\n",
       "      <th>Monday</th>\n",
       "      <td>4299</td>\n",
       "      <td>2578</td>\n",
       "      <td>1658</td>\n",
       "      <td>1226</td>\n",
       "      <td>1351</td>\n",
       "      <td>2147</td>\n",
       "      <td>5357</td>\n",
       "      <td>8620</td>\n",
       "      <td>10342</td>\n",
       "      <td>10007</td>\n",
       "      <td>...</td>\n",
       "      <td>9910</td>\n",
       "      <td>9959</td>\n",
       "      <td>9160</td>\n",
       "      <td>10857</td>\n",
       "      <td>12959</td>\n",
       "      <td>12234</td>\n",
       "      <td>11334</td>\n",
       "      <td>11192</td>\n",
       "      <td>9608</td>\n",
       "      <td>6965</td>\n",
       "    </tr>\n",
       "    <tr>\n",
       "      <th>Tuesday</th>\n",
       "      <td>4506</td>\n",
       "      <td>2574</td>\n",
       "      <td>1508</td>\n",
       "      <td>1012</td>\n",
       "      <td>1142</td>\n",
       "      <td>2126</td>\n",
       "      <td>5779</td>\n",
       "      <td>10050</td>\n",
       "      <td>11608</td>\n",
       "      <td>10955</td>\n",
       "      <td>...</td>\n",
       "      <td>10422</td>\n",
       "      <td>10096</td>\n",
       "      <td>8948</td>\n",
       "      <td>11086</td>\n",
       "      <td>13477</td>\n",
       "      <td>13044</td>\n",
       "      <td>12726</td>\n",
       "      <td>12693</td>\n",
       "      <td>11503</td>\n",
       "      <td>8656</td>\n",
       "    </tr>\n",
       "    <tr>\n",
       "      <th>Wednesday</th>\n",
       "      <td>5327</td>\n",
       "      <td>3134</td>\n",
       "      <td>1890</td>\n",
       "      <td>1280</td>\n",
       "      <td>1252</td>\n",
       "      <td>2087</td>\n",
       "      <td>5833</td>\n",
       "      <td>10344</td>\n",
       "      <td>11889</td>\n",
       "      <td>10993</td>\n",
       "      <td>...</td>\n",
       "      <td>10611</td>\n",
       "      <td>10029</td>\n",
       "      <td>8806</td>\n",
       "      <td>10864</td>\n",
       "      <td>13195</td>\n",
       "      <td>13693</td>\n",
       "      <td>13183</td>\n",
       "      <td>13438</td>\n",
       "      <td>12407</td>\n",
       "      <td>9735</td>\n",
       "    </tr>\n",
       "    <tr>\n",
       "      <th>Thursday</th>\n",
       "      <td>6299</td>\n",
       "      <td>3632</td>\n",
       "      <td>2145</td>\n",
       "      <td>1550</td>\n",
       "      <td>1385</td>\n",
       "      <td>2222</td>\n",
       "      <td>6051</td>\n",
       "      <td>10408</td>\n",
       "      <td>11936</td>\n",
       "      <td>10919</td>\n",
       "      <td>...</td>\n",
       "      <td>10926</td>\n",
       "      <td>10445</td>\n",
       "      <td>8760</td>\n",
       "      <td>10684</td>\n",
       "      <td>13537</td>\n",
       "      <td>14066</td>\n",
       "      <td>13634</td>\n",
       "      <td>14171</td>\n",
       "      <td>13424</td>\n",
       "      <td>11715</td>\n",
       "    </tr>\n",
       "    <tr>\n",
       "      <th>Friday</th>\n",
       "      <td>8779</td>\n",
       "      <td>5804</td>\n",
       "      <td>3949</td>\n",
       "      <td>2924</td>\n",
       "      <td>2313</td>\n",
       "      <td>2461</td>\n",
       "      <td>5544</td>\n",
       "      <td>9607</td>\n",
       "      <td>11465</td>\n",
       "      <td>10553</td>\n",
       "      <td>...</td>\n",
       "      <td>10960</td>\n",
       "      <td>10220</td>\n",
       "      <td>8827</td>\n",
       "      <td>11027</td>\n",
       "      <td>13411</td>\n",
       "      <td>14176</td>\n",
       "      <td>12831</td>\n",
       "      <td>12580</td>\n",
       "      <td>13287</td>\n",
       "      <td>13181</td>\n",
       "    </tr>\n",
       "    <tr>\n",
       "      <th>Saturday</th>\n",
       "      <td>11768</td>\n",
       "      <td>9989</td>\n",
       "      <td>8240</td>\n",
       "      <td>6037</td>\n",
       "      <td>3849</td>\n",
       "      <td>1997</td>\n",
       "      <td>2535</td>\n",
       "      <td>3727</td>\n",
       "      <td>5480</td>\n",
       "      <td>7879</td>\n",
       "      <td>...</td>\n",
       "      <td>10873</td>\n",
       "      <td>10865</td>\n",
       "      <td>9996</td>\n",
       "      <td>11270</td>\n",
       "      <td>12920</td>\n",
       "      <td>13049</td>\n",
       "      <td>11228</td>\n",
       "      <td>11374</td>\n",
       "      <td>12371</td>\n",
       "      <td>13166</td>\n",
       "    </tr>\n",
       "    <tr>\n",
       "      <th>Sunday</th>\n",
       "      <td>12270</td>\n",
       "      <td>10860</td>\n",
       "      <td>8582</td>\n",
       "      <td>6866</td>\n",
       "      <td>4500</td>\n",
       "      <td>1962</td>\n",
       "      <td>2149</td>\n",
       "      <td>2844</td>\n",
       "      <td>4333</td>\n",
       "      <td>6357</td>\n",
       "      <td>...</td>\n",
       "      <td>10590</td>\n",
       "      <td>10197</td>\n",
       "      <td>9816</td>\n",
       "      <td>10695</td>\n",
       "      <td>11101</td>\n",
       "      <td>10046</td>\n",
       "      <td>9136</td>\n",
       "      <td>8737</td>\n",
       "      <td>7892</td>\n",
       "      <td>6367</td>\n",
       "    </tr>\n",
       "  </tbody>\n",
       "</table>\n",
       "<p>7 rows × 24 columns</p>\n",
       "</div>"
      ],
      "text/plain": [
       "pickup_datetime     0      1     2     3     4     5     6      7      8   \\\n",
       "pickup_datetime                                                             \n",
       "Monday            4299   2578  1658  1226  1351  2147  5357   8620  10342   \n",
       "Tuesday           4506   2574  1508  1012  1142  2126  5779  10050  11608   \n",
       "Wednesday         5327   3134  1890  1280  1252  2087  5833  10344  11889   \n",
       "Thursday          6299   3632  2145  1550  1385  2222  6051  10408  11936   \n",
       "Friday            8779   5804  3949  2924  2313  2461  5544   9607  11465   \n",
       "Saturday         11768   9989  8240  6037  3849  1997  2535   3727   5480   \n",
       "Sunday           12270  10860  8582  6866  4500  1962  2149   2844   4333   \n",
       "\n",
       "pickup_datetime     9   ...     14     15    16     17     18     19     20  \\\n",
       "pickup_datetime         ...                                                   \n",
       "Monday           10007  ...   9910   9959  9160  10857  12959  12234  11334   \n",
       "Tuesday          10955  ...  10422  10096  8948  11086  13477  13044  12726   \n",
       "Wednesday        10993  ...  10611  10029  8806  10864  13195  13693  13183   \n",
       "Thursday         10919  ...  10926  10445  8760  10684  13537  14066  13634   \n",
       "Friday           10553  ...  10960  10220  8827  11027  13411  14176  12831   \n",
       "Saturday          7879  ...  10873  10865  9996  11270  12920  13049  11228   \n",
       "Sunday            6357  ...  10590  10197  9816  10695  11101  10046   9136   \n",
       "\n",
       "pickup_datetime     21     22     23  \n",
       "pickup_datetime                       \n",
       "Monday           11192   9608   6965  \n",
       "Tuesday          12693  11503   8656  \n",
       "Wednesday        13438  12407   9735  \n",
       "Thursday         14171  13424  11715  \n",
       "Friday           12580  13287  13181  \n",
       "Saturday         11374  12371  13166  \n",
       "Sunday            8737   7892   6367  \n",
       "\n",
       "[7 rows x 24 columns]"
      ]
     },
     "execution_count": 282,
     "metadata": {},
     "output_type": "execute_result"
    }
   ],
   "source": [
    "viz3 = df.pivot_table(index=df.pickup_datetime.dt.hour, columns=df.pickup_datetime.dt.day_name(), values='id', aggfunc='size')\n",
    "viz3 = viz3[['Monday','Tuesday','Wednesday','Thursday','Friday','Saturday','Sunday']].transpose()\n",
    "viz3"
   ]
  },
  {
   "cell_type": "code",
   "execution_count": 283,
   "metadata": {},
   "outputs": [
    {
     "data": {
      "text/plain": [
       "<matplotlib.axes._subplots.AxesSubplot at 0x1b2545ec10>"
      ]
     },
     "execution_count": 283,
     "metadata": {},
     "output_type": "execute_result"
    },
    {
     "data": {
      "image/png": "[encoded data removed]",
      "text/plain": [
       "<Figure size 1728x504 with 2 Axes>"
      ]
     },
     "metadata": {
      "needs_background": "light"
     },
     "output_type": "display_data"
    }
   ],
   "source": [
    "plt.figure(figsize=(24,7))\n",
    "sns.heatmap(viz3, cmap='GnBu')"
   ]
  },
  {
   "cell_type": "markdown",
   "metadata": {},
   "source": [
    "Здесь видим, что наибольший спрос на такси приходится в вечернее время с 18 до 23 вечера с понедельника по субботу и ночное время в выходные."
   ]
  },
  {
   "cell_type": "markdown",
   "metadata": {},
   "source": [
    "-----"
   ]
  },
  {
   "cell_type": "markdown",
   "metadata": {},
   "source": [
    "_something extra_\n",
    "\n",
    "Я понимаю, что для построения графиков по геоданным стоит использовать специальные библиотеки, и без контекста график ниже понять невозможно.\n",
    "\n",
    "Тем не менее, зная (представляя) карту Нью-Йорка, можно обратить внимание, что большинство поездок начинаются и заканчиваются  \n",
    "в центре Манхэттена. Разброс шире в координатах назначения поездки, слева далекий выброс в Нью-Джерси, справа точки в районе\n",
    "Бруклина и Квинс, точки выше - Гарлем или, вероятнее, Бронкс. Одна далекая точка вызова - север штата.\n",
    "\n",
    "Здесь нет графов и  не видно совпадают ли районы начала и окончания поездки.\n",
    "Зато однозначно встает вопрос о выбросах в разрезе длительности поездок, где некоторые поездки длятся 25 или 40 дней и о большом количестве поездок в 1 секунду. Данные об этих поездках скорее всего не отражают реального маршрута и связаны с ошибкой или намеренно неверным вводом данных водителем."
   ]
  },
  {
   "cell_type": "code",
   "execution_count": 286,
   "metadata": {},
   "outputs": [
    {
     "data": {
      "text/plain": [
       "<matplotlib.collections.PathCollection at 0x1b4e13fa90>"
      ]
     },
     "execution_count": 286,
     "metadata": {},
     "output_type": "execute_result"
    },
    {
     "data": {
      "image/png": "[encoded data removed]",
      "text/plain": [
       "<Figure size 1080x1080 with 1 Axes>"
      ]
     },
     "metadata": {
      "needs_background": "light"
     },
     "output_type": "display_data"
    }
   ],
   "source": [
    "plt.figure(figsize=(15,15))\n",
    "plt.scatter(df.pickup_longitude, df.pickup_latitude, color='red')\n",
    "plt.scatter(df.dropoff_longitude, df.dropoff_latitude, color='blue')"
   ]
  },
  {
   "cell_type": "code",
   "execution_count": null,
   "metadata": {},
   "outputs": [],
   "source": []
  }
 ],
 "metadata": {
  "kernelspec": {
   "display_name": "Python 3",
   "language": "python",
   "name": "python3"
  },
  "language_info": {
   "codemirror_mode": {
    "name": "ipython",
    "version": 3
   },
   "file_extension": ".py",
   "mimetype": "text/x-python",
   "name": "python",
   "nbconvert_exporter": "python",
   "pygments_lexer": "ipython3",
   "version": "3.7.6"
  }
 },
 "nbformat": 4,
 "nbformat_minor": 4
}
