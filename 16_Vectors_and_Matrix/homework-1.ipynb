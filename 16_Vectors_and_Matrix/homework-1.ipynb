{
 "cells": [
  {
   "cell_type": "markdown",
   "metadata": {},
   "source": [
    "# Домашняя работа №1"
   ]
  },
  {
   "cell_type": "code",
   "execution_count": 1,
   "metadata": {},
   "outputs": [],
   "source": [
    "import numpy as np\n",
    "import pylab as pl\n",
    "import pandas as pd\n",
    "import warnings\n",
    "import math\n",
    "\n",
    "from matplotlib import pyplot as plt\n",
    "from scipy import linalg\n",
    "\n",
    "\n",
    "warnings.filterwarnings(\"ignore\")"
   ]
  },
  {
   "cell_type": "markdown",
   "metadata": {},
   "source": [
    "## Задание 1"
   ]
  },
  {
   "cell_type": "markdown",
   "metadata": {},
   "source": [
    "Изобразите с помощью matplotlib. Изобразите точку x + 2y + 3z. Найдите угол между векторами x, y и x, z. "
   ]
  },
  {
   "cell_type": "code",
   "execution_count": 2,
   "metadata": {},
   "outputs": [],
   "source": [
    "x = np.array([1,1])\n",
    "y = np.array([2, 0])\n",
    "z = np.array([0,2])"
   ]
  },
  {
   "cell_type": "code",
   "execution_count": 3,
   "metadata": {},
   "outputs": [],
   "source": [
    "dot = x + 2*y +3*z"
   ]
  },
  {
   "cell_type": "code",
   "execution_count": 4,
   "metadata": {},
   "outputs": [
    {
     "name": "stdout",
     "output_type": "stream",
     "text": [
      "Угол между x и y в радианах: \n",
      "0.7853981633974484\n",
      "Угол в градусах: \n",
      "45.00000000000001\n"
     ]
    }
   ],
   "source": [
    "# угол между x, y\n",
    "cosine_alpha = np.dot(x,y) / (np.linalg.norm(x)*np.linalg.norm(y))\n",
    "print(\"Угол между x и y в радианах: \", math.acos(cosine_alpha), \"Угол в градусах: \", math.acos(cosine_alpha) * 180 / math.pi, sep='\\n')"
   ]
  },
  {
   "cell_type": "code",
   "execution_count": 5,
   "metadata": {},
   "outputs": [
    {
     "name": "stdout",
     "output_type": "stream",
     "text": [
      "Угол между x и z в радианах: \n",
      "0.7853981633974484\n",
      "Угол в градусах: \n",
      "45.00000000000001\n"
     ]
    }
   ],
   "source": [
    "# угол между x, z\n",
    "cosine_alpha = np.dot(x,z) / (np.linalg.norm(x)*np.linalg.norm(z))\n",
    "print(\"Угол между x и z в радианах: \", math.acos(cosine_alpha), \"Угол в градусах: \", math.acos(cosine_alpha) * 180 / math.pi, sep='\\n')"
   ]
  },
  {
   "cell_type": "code",
   "execution_count": 6,
   "metadata": {},
   "outputs": [
    {
     "data": {
      "text/plain": [
       "[<matplotlib.lines.Line2D at 0x622b3c750>]"
      ]
     },
     "execution_count": 6,
     "metadata": {},
     "output_type": "execute_result"
    },
    {
     "data": {
      "image/png": "[encoded data removed]",
      "text/plain": [
       "<Figure size 360x504 with 1 Axes>"
      ]
     },
     "metadata": {
      "needs_background": "light"
     },
     "output_type": "display_data"
    }
   ],
   "source": [
    "plt.figure(figsize=(5,7))\n",
    "plt.scatter(x[0], x[1], s=8)\n",
    "plt.plot([0,x[0]],[0,x[1]],'b--',linewidth=1)\n",
    "plt.scatter(y[0], y[1], s=8)\n",
    "plt.plot([0,y[0]],[0,y[1]],'b--',linewidth=1)\n",
    "plt.scatter(z[0], z[1], s=8)\n",
    "plt.plot([0,z[0]],[0,z[1]],'b--',linewidth=1)\n",
    "\n",
    "# dot x + 2y + 3z.\n",
    "plt.scatter(dot[0], dot[1], s=8)\n",
    "plt.plot([0,dot[0]],[0,dot[1]],'r--',linewidth=1)"
   ]
  },
  {
   "cell_type": "markdown",
   "metadata": {},
   "source": [
    "## Задание 2"
   ]
  },
  {
   "cell_type": "markdown",
   "metadata": {},
   "source": [
    "Загрузите модель человека. Найдите расстояние от правой кисти до позвоночника"
   ]
  },
  {
   "cell_type": "code",
   "execution_count": 7,
   "metadata": {},
   "outputs": [],
   "source": [
    "ns = ['type', 'x', 'y', 'z']\n",
    "# read points for joints\n",
    "dfJoints = pd.read_csv('joints.txt', sep=' ', names = ns)\n",
    "axis_sort = 'x' \n",
    "df = dfJoints.sort_values(by=[axis_sort])\n",
    "\n",
    "df = df[['x','y']].drop_duplicates()"
   ]
  },
  {
   "cell_type": "code",
   "execution_count": 64,
   "metadata": {},
   "outputs": [],
   "source": [
    "right_hand = np.array(df.iloc[14])\n",
    "spine = np.array(df.iloc[8] - df.iloc[6])"
   ]
  },
  {
   "cell_type": "code",
   "execution_count": 105,
   "metadata": {},
   "outputs": [
    {
     "data": {
      "text/plain": [
       "x    0.000464\n",
       "y    0.143967\n",
       "dtype: float64"
      ]
     },
     "execution_count": 105,
     "metadata": {},
     "output_type": "execute_result"
    }
   ],
   "source": [
    "projection = np.array(df.iloc[8]) + (np.dot(right_hand, spine)/np.linalg.norm(right_hand))*spine\n",
    "projection"
   ]
  },
  {
   "cell_type": "code",
   "execution_count": 103,
   "metadata": {},
   "outputs": [
    {
     "data": {
      "text/plain": [
       "<matplotlib.collections.PathCollection at 0x626eb1490>"
      ]
     },
     "execution_count": 103,
     "metadata": {},
     "output_type": "execute_result"
    },
    {
     "data": {
      "image/png": "[encoded data removed]",
      "text/plain": [
       "<Figure size 432x288 with 1 Axes>"
      ]
     },
     "metadata": {
      "needs_background": "light"
     },
     "output_type": "display_data"
    }
   ],
   "source": [
    "plt.scatter(df.x, df.y)\n",
    "plt.scatter(right_hand[0], right_hand[1])\n",
    "\n",
    "plt.scatter(df.iloc[6][0], df.iloc[6][1])\n",
    "plt.scatter(df.iloc[8][0], df.iloc[8][1])\n",
    "\n",
    "plt.scatter(projection[0],projection[1])"
   ]
  },
  {
   "cell_type": "code",
   "execution_count": 106,
   "metadata": {},
   "outputs": [
    {
     "name": "stdout",
     "output_type": "stream",
     "text": [
      "Расстояние от правой кисти до позвоночника: 0.4037493048607383\n"
     ]
    }
   ],
   "source": [
    "print(f'Расстояние от правой кисти до позвоночника: {np.linalg.norm(right_hand-projection)}')"
   ]
  },
  {
   "cell_type": "code",
   "execution_count": null,
   "metadata": {},
   "outputs": [],
   "source": []
  },
  {
   "cell_type": "code",
   "execution_count": null,
   "metadata": {},
   "outputs": [],
   "source": []
  },
  {
   "cell_type": "markdown",
   "metadata": {},
   "source": [
    "# Задание 3"
   ]
  },
  {
   "cell_type": "markdown",
   "metadata": {},
   "source": [
    "Найдите собственные значения и собственные вектора матриц (необходимо решение на numpy). Для матрицы 3x3 можно посмотреть на корни характеристического многочлена, посчитанные в numpy."
   ]
  },
  {
   "cell_type": "code",
   "execution_count": 17,
   "metadata": {},
   "outputs": [],
   "source": [
    "m1 = np.array([[2, 2],\n",
    "               [1, 3]])\n",
    "\n",
    "m2 = np.array([[4, 1, -1],\n",
    "               [1, 4, -1],\n",
    "               [-1, -1, 4]])"
   ]
  },
  {
   "cell_type": "code",
   "execution_count": 18,
   "metadata": {},
   "outputs": [
    {
     "name": "stdout",
     "output_type": "stream",
     "text": [
      "Исходная матрица: \n",
      " [[2 2]\n",
      " [1 3]]\n",
      "Собственные вектора: \n",
      " [[-0.89442719 -0.70710678]\n",
      " [ 0.4472136  -0.70710678]]\n",
      "Собственные значения:  [1. 4.]\n"
     ]
    }
   ],
   "source": [
    "from numpy import linalg as LA\n",
    "\n",
    "e_vals, e_vecs = LA.eig(m1)\n",
    "print('Исходная матрица: \\n', m1)\n",
    "\n",
    "print('Собственные вектора: \\n', e_vecs)\n",
    "print('Собственные значения: ', e_vals)"
   ]
  },
  {
   "cell_type": "code",
   "execution_count": 19,
   "metadata": {},
   "outputs": [
    {
     "name": "stdout",
     "output_type": "stream",
     "text": [
      "Исходная матрица: \n",
      " [[ 4  1 -1]\n",
      " [ 1  4 -1]\n",
      " [-1 -1  4]]\n",
      "Собственные вектора: \n",
      " [[-0.81649658  0.57735027 -0.27658128]\n",
      " [ 0.40824829  0.57735027  0.8035929 ]\n",
      " [-0.40824829 -0.57735027  0.52701162]]\n",
      "Собственные значения:  [3. 6. 3.]\n"
     ]
    }
   ],
   "source": [
    "e_vals, e_vecs = LA.eig(m2)\n",
    "print('Исходная матрица: \\n', m2)\n",
    "\n",
    "print('Собственные вектора: \\n', e_vecs)\n",
    "print('Собственные значения: ', e_vals)"
   ]
  },
  {
   "cell_type": "code",
   "execution_count": null,
   "metadata": {},
   "outputs": [],
   "source": []
  },
  {
   "cell_type": "code",
   "execution_count": null,
   "metadata": {},
   "outputs": [],
   "source": []
  }
 ],
 "metadata": {
  "kernelspec": {
   "display_name": "Python 3",
   "language": "python",
   "name": "python3"
  },
  "language_info": {
   "codemirror_mode": {
    "name": "ipython",
    "version": 3
   },
   "file_extension": ".py",
   "mimetype": "text/x-python",
   "name": "python",
   "nbconvert_exporter": "python",
   "pygments_lexer": "ipython3",
   "version": "3.7.6"
  }
 },
 "nbformat": 4,
 "nbformat_minor": 2
}
