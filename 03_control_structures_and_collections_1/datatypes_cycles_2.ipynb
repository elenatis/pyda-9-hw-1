{
 "cells": [
  {
   "cell_type": "markdown",
   "metadata": {},
   "source": [
    "**Задание 1**. Дан список с визитами по городам и странам. \n",
    "Напишите код, который возвращает отфильтрованный список geo_logs, содержащий только визиты из России."
   ]
  },
  {
   "cell_type": "code",
   "execution_count": 237,
   "metadata": {},
   "outputs": [
    {
     "data": {
      "text/plain": [
       "[{'visit1': ['Москва', 'Россия']},\n",
       " {'visit3': ['Владимир', 'Россия']},\n",
       " {'visit7': ['Тула', 'Россия']},\n",
       " {'visit8': ['Тула', 'Россия']},\n",
       " {'visit9': ['Курск', 'Россия']},\n",
       " {'visit10': ['Архангельск', 'Россия']}]"
      ]
     },
     "execution_count": 237,
     "metadata": {},
     "output_type": "execute_result"
    }
   ],
   "source": [
    "geo_logs = [\n",
    "    {'visit1': ['Москва', 'Россия']},\n",
    "    {'visit2': ['Дели', 'Индия']},\n",
    "    {'visit3': ['Владимир', 'Россия']},\n",
    "    {'visit4': ['Лиссабон', 'Португалия']},\n",
    "    {'visit5': ['Париж', 'Франция']},\n",
    "    {'visit6': ['Лиссабон', 'Португалия']},\n",
    "    {'visit7': ['Тула', 'Россия']},\n",
    "    {'visit8': ['Тула', 'Россия']},\n",
    "    {'visit9': ['Курск', 'Россия']},\n",
    "    {'visit10': ['Архангельск', 'Россия']}\n",
    "]\n",
    "\n",
    "filter = 'Россия'\n",
    "i = 0\n",
    "while i < len(geo_logs) :\n",
    "    if list(geo_logs[i].values())[0][1] != filter :\n",
    "        del geo_logs[i]\n",
    "    else:\n",
    "        i +=1\n",
    "\n",
    "geo_logs"
   ]
  },
  {
   "cell_type": "markdown",
   "metadata": {},
   "source": [
    "**Задание 2**. Выведите на экран все уникальные гео-ID из значений словаря ids. Т. е. список вида [213, 15, 54, 119, 98, 35]"
   ]
  },
  {
   "cell_type": "code",
   "execution_count": 238,
   "metadata": {},
   "outputs": [
    {
     "data": {
      "text/plain": [
       "[98, 35, 15, 213, 54, 119]"
      ]
     },
     "execution_count": 238,
     "metadata": {},
     "output_type": "execute_result"
    }
   ],
   "source": [
    "ids = {'user1': [213, 213, 213, 15, 213], \n",
    "       'user2': [54, 54, 119, 119, 119], \n",
    "       'user3': [213, 98, 98, 35]}\n",
    "\n",
    "set_geo_id = set()\n",
    "# for id in ids : \n",
    "#     for element in ids[id]:\n",
    "#         if element not in set_id:\n",
    "#             set_id.add(element)\n",
    "\n",
    "[set_geo_id.add(geo_id) for id in ids for geo_id in ids[id] if geo_id not in set_geo_id]\n",
    "\n",
    "list(set_geo_id)"
   ]
  },
  {
   "cell_type": "code",
   "execution_count": 1,
   "metadata": {},
   "outputs": [],
   "source": [
    "ids = {'user1': [213, 213, 213, 15, 213], \n",
    "       'user2': [54, 54, 119, 119, 119], \n",
    "       'user3': [213, 98, 98, 35]}"
   ]
  },
  {
   "cell_type": "code",
   "execution_count": 10,
   "metadata": {},
   "outputs": [
    {
     "data": {
      "text/plain": [
       "[98, 35, 15, 213, 54, 119]"
      ]
     },
     "execution_count": 10,
     "metadata": {},
     "output_type": "execute_result"
    }
   ],
   "source": [
    "set_geo_id = list(set([id_ for user in ids.values() for id_ in user]))\n",
    "\n",
    "set_geo_id"
   ]
  },
  {
   "cell_type": "markdown",
   "metadata": {},
   "source": [
    "**Задание 3**. Дан список поисковых запросов. Получить распределение количества слов в них. \n",
    "Т. е. поисковых запросов из одного - слова 5%, из двух - 7%, из трех - 3% и т.д."
   ]
  },
  {
   "cell_type": "code",
   "execution_count": 264,
   "metadata": {},
   "outputs": [
    {
     "name": "stdout",
     "output_type": "stream",
     "text": [
      "Поисковых запросов из 3 слов -  48 %\n",
      "Поисковых запросов из 2 слов -  36 %\n",
      "Поисковых запросов из 1 слов -  12 %\n"
     ]
    },
    {
     "data": {
      "text/plain": [
       "{3: 48, 2: 36, 1: 12}"
      ]
     },
     "execution_count": 264,
     "metadata": {},
     "output_type": "execute_result"
    }
   ],
   "source": [
    "queries = [\n",
    "    'смотреть сериалы онлайн',\n",
    "    'новости спорта',\n",
    "    'афиша кино',\n",
    "    'курс доллара',\n",
    "    'сериалы этим летом',\n",
    "    'курс по питону',\n",
    "    'сериалы про спорт',\n",
    "    'погода'\n",
    "]\n",
    "\n",
    "words_in_query = {}\n",
    "share = round(1/len(queries)*100)\n",
    "for query in queries :\n",
    "    key = len(query.split(' ')) \n",
    "    if key not in words_in_query.keys() :\n",
    "        words_in_query[key] = share\n",
    "    else:\n",
    "        words_in_query[key] += share  \n",
    "        \n",
    "[print('Поисковых запросов из' , words ,'слов - ' , share, '%') for words, share in words_in_query.items()]  \n",
    "words_in_query"
   ]
  },
  {
   "cell_type": "code",
   "execution_count": 46,
   "metadata": {},
   "outputs": [
    {
     "name": "stdout",
     "output_type": "stream",
     "text": [
      "Поисковых запросов из 1 слов - 12.5%\n",
      "Поисковых запросов из 2 слов - 37.5%\n",
      "Поисковых запросов из 3 слов - 50.0%\n"
     ]
    },
    {
     "data": {
      "text/plain": [
       "[None, None, None]"
      ]
     },
     "execution_count": 46,
     "metadata": {},
     "output_type": "execute_result"
    }
   ],
   "source": [
    "queries = [\n",
    "    'смотреть сериалы онлайн',\n",
    "    'новости спорта',\n",
    "    'афиша кино',\n",
    "    'курс доллара',\n",
    "    'сериалы этим летом',\n",
    "    'курс по питону',\n",
    "    'сериалы про спорт',\n",
    "    'погода'\n",
    "]\n",
    "    \n",
    "query_length = [len(query.split(' ')) for query in queries]\n",
    "\n",
    "\n",
    "# i = 1\n",
    "# while query_length.count(i) != 0:\n",
    "#     print(f\"Поисковых запросов из {i} слов - {query_length.count(i)/len(queries)*100}%\")\n",
    "#     i +=1\n",
    "\n",
    "\n",
    "[print(f\"Поисковых запросов из {_} слов - {query_length.count(_)/len(queries)*100}%\") for _ in range(1,max(query_length)+1)]\n",
    "\n",
    "# for _ in range(1,max(query_length)+1):\n",
    "#     print(f\"Поисковых запросов из {_} слов - {query_length.count(_)/len(queries)*100}%\")"
   ]
  },
  {
   "cell_type": "markdown",
   "metadata": {},
   "source": [
    "**Задание 4**. Дана статистика рекламных каналов по объемам продаж. Напишите скрипт, который возвращает название канала с максимальным объемом.\n",
    "Т. е. в данном примере скрипт должен возвращать 'yandex'."
   ]
  },
  {
   "cell_type": "code",
   "execution_count": 11,
   "metadata": {},
   "outputs": [
    {
     "name": "stdout",
     "output_type": "stream",
     "text": [
      "yandex\n"
     ]
    },
    {
     "data": {
      "text/plain": [
       "[None]"
      ]
     },
     "execution_count": 11,
     "metadata": {},
     "output_type": "execute_result"
    }
   ],
   "source": [
    "stats = {'facebook': 55, 'yandex': 120, 'vk': 115, 'google': 99, 'email': 42, 'ok': 98}\n",
    "\n",
    "[print(site) for site in stats.keys() if stats[site] == max(list(stats.values()))]"
   ]
  },
  {
   "cell_type": "markdown",
   "metadata": {},
   "source": [
    "**Задание 5**. Напишите код для преобразования произвольного списка вида ['2018-01-01', 'yandex', 'cpc', 100] (он может быть любой длины) в словарь {'2018-01-01': {'yandex': {'cpc': 100}}}"
   ]
  },
  {
   "cell_type": "code",
   "execution_count": 99,
   "metadata": {},
   "outputs": [
    {
     "name": "stdout",
     "output_type": "stream",
     "text": [
      "{'2018-01-01': {'yandex': {'cpc': 100}}}\n"
     ]
    }
   ],
   "source": [
    "sample = ['2018-01-01', 'yandex', 'cpc', 100] \n",
    "\n",
    "sample.reverse()\n",
    "my_dict ={}\n",
    "for element in sample:\n",
    "    if element == sample[0] :\n",
    "        my_dict = element\n",
    "    else:\n",
    "        my_dict = {element : my_dict}\n",
    "\n",
    "# how to code in dict comprehension??\n",
    "# my_dict = {element if element == sample[0] else dict(element = my_dict) for element in sample  }          \n",
    "           \n",
    "print(my_dict)"
   ]
  },
  {
   "cell_type": "code",
   "execution_count": 17,
   "metadata": {},
   "outputs": [
    {
     "name": "stdout",
     "output_type": "stream",
     "text": [
      "{'2018-01-01': {'cpc': 100}, 'yandex': {'cpc': 100}}\n"
     ]
    }
   ],
   "source": [
    "sample = ['2018-01-01', 'yandex', 'cpc', 100] \n",
    "\n",
    "my_dict = {sample[-2]:sample[-1]}\n",
    "for element in sample[:-2]:\n",
    "        my_dict = {element : my_dict}        \n",
    "            \n",
    "print(my_dict)"
   ]
  },
  {
   "cell_type": "code",
   "execution_count": null,
   "metadata": {},
   "outputs": [],
   "source": []
  }
 ],
 "metadata": {
  "kernelspec": {
   "display_name": "Python 3",
   "language": "python",
   "name": "python3"
  },
  "language_info": {
   "codemirror_mode": {
    "name": "ipython",
    "version": 3
   },
   "file_extension": ".py",
   "mimetype": "text/x-python",
   "name": "python",
   "nbconvert_exporter": "python",
   "pygments_lexer": "ipython3",
   "version": "3.7.6"
  }
 },
 "nbformat": 4,
 "nbformat_minor": 2
}
